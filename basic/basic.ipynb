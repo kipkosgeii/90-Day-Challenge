{
 "cells": [
  {
   "cell_type": "markdown",
   "metadata": {},
   "source": [
    "## Understanding Python\n",
    "\n",
    "- Undersatnd how it is installed \n",
    "- naming convention of python\n",
    "- Understand Variables(define and naming)"
   ]
  },
  {
   "cell_type": "markdown",
   "metadata": {},
   "source": []
  },
  {
   "cell_type": "markdown",
   "metadata": {},
   "source": [
    "## Understanding basic Python Function\n",
    "\n",
    "- there is a way python operate when a function is invoked \n",
    "\n",
    "N/B: there can not be more than one line of instruction \n",
    "\n",
    "### how code/instruction is executed \n",
    "\n",
    "- Checks if the name specified is legal(brows through existng function, search and or aborts the code)\n",
    "- checks if the function requirements for the number of arguments that allows you to invoke the function in this manner\n",
    "- It then read through the function takes its arguments and pass them to a function\n",
    "- The instruction is now excuted to the desired effect, evaluates the results, and finishes the task\n",
    "- return the code and resume execution\n",
    "\n",
    "\n",
    "### Debuging \n",
    "\n",
    "- Basically this are what makes your program not to run for it has some errors( syntax error, runtime error, semantic error)\n",
    "\n",
    "syntax error- acts on the sysntax of the program \n",
    "\n",
    "runtime error - are called exception error, it appers after the program has executed \n",
    "\n",
    "sematic error - when the program give wrong results from the anticipated one "
   ]
  },
  {
   "cell_type": "code",
   "execution_count": 9,
   "metadata": {},
   "outputs": [
    {
     "name": "stdout",
     "output_type": "stream",
     "text": [
      "Hello World!\n"
     ]
    }
   ],
   "source": [
    "print('Hello World!')"
   ]
  },
  {
   "cell_type": "markdown",
   "metadata": {},
   "source": [
    "- what is happening here is function print is invoked and it has accepted an argument(it can take more than one  argument an din anyform from numers, string,characters,logicak values and objects), converts to human-readable an and output the results (console)\n",
    "\n",
    "#### print \n",
    "    - can take more than one arguments\n"
   ]
  },
  {
   "cell_type": "code",
   "execution_count": 10,
   "metadata": {},
   "outputs": [
    {
     "name": "stdout",
     "output_type": "stream",
     "text": [
      "Sammy My school John\n"
     ]
    }
   ],
   "source": [
    "print('Sammy','My school', 'John')"
   ]
  },
  {
   "cell_type": "markdown",
   "metadata": {},
   "source": [
    "### Keyword Argument\n",
    "\n",
    "- this happens when you want to change the behaviour of a function like end=\"\""
   ]
  },
  {
   "cell_type": "code",
   "execution_count": 11,
   "metadata": {},
   "outputs": [
    {
     "name": "stdout",
     "output_type": "stream",
     "text": [
      "whats your name am Me\n",
      "\n",
      "Mon-tue-wen-thur-fri\n",
      "\n",
      "john-ndoe..."
     ]
    }
   ],
   "source": [
    "# alters the end of the code \n",
    "print('whats your name', end=' ')\n",
    "\n",
    "print('am Me')\n",
    "\n",
    "print()\n",
    "\n",
    "# seperator \n",
    "print('Mon','tue','wen','thur','fri', sep='-')\n",
    "\n",
    "print()\n",
    "\n",
    "# combining keyword argument \n",
    "\n",
    "print('john', 'ndoe', sep='-', end='...')"
   ]
  },
  {
   "cell_type": "code",
   "execution_count": 12,
   "metadata": {},
   "outputs": [
    {
     "name": "stdout",
     "output_type": "stream",
     "text": [
      "*    * *      *    *    *     * *       * *        *   *\n",
      "*  *         * *   * *  *     *   *   *     *      * *****\n",
      "*  *        *****  *  * *     *   *   *     *      *   *\n",
      "*    * *   *     * *   **     *  *      * *        *   ****\n"
     ]
    }
   ],
   "source": [
    "print('*    * *      *    *    *     * *       * *        *   *')\n",
    "print('*  *         * *   * *  *     *   *   *     *      * *****')\n",
    "print('*  *        *****  *  * *     *   *   *     *      *   *')\n",
    "print('*    * *   *     * *   **     *  *      * *        *   ****')"
   ]
  },
  {
   "cell_type": "markdown",
   "metadata": {},
   "source": [
    "# Variables \n",
    "- Understanding how to define and using variable \n",
    "\n",
    "there are several types of variable - and each of them belongs to a class in relation to its operation, methods.\n",
    "\n",
    "* string\n",
    "* Integers \n",
    "* Float\n",
    "* Boolean"
   ]
  },
  {
   "cell_type": "code",
   "execution_count": 13,
   "metadata": {},
   "outputs": [
    {
     "name": "stdout",
     "output_type": "stream",
     "text": [
      "380.18199999999996\n"
     ]
    }
   ],
   "source": [
    "# area of a circle \n",
    "\n",
    "pi = 3.142\n",
    "\n",
    "rad = input('Enter the radius: ')\n",
    "\n",
    "area = pi *int (rad) * int(rad)\n",
    "\n",
    "print(area)"
   ]
  },
  {
   "cell_type": "markdown",
   "metadata": {},
   "source": [
    "# Functions \n",
    "\n",
    "- These are expression that arguments and return a results(return value) --- its a type \n",
    "\n",
    "- steps :\n",
    "    - define the name \n",
    "    - instatiate the condition and statements\n",
    "    - call the function by the defined name\n",
    "\n",
    "- Flow of execution - understanding how the program is executed\n",
    "    - always begins at the top, down depending withe instruction\n",
    "\n",
    "\n",
    "Parameters and Arguments (variable inside a function)\n",
    "\n",
    "- Know the fruitful and void function"
   ]
  },
  {
   "cell_type": "code",
   "execution_count": 2,
   "metadata": {},
   "outputs": [
    {
     "name": "stdout",
     "output_type": "stream",
     "text": [
      "0.7071067811865475\n"
     ]
    }
   ],
   "source": [
    "# Math Function- modules which instanciate a module object\n",
    "\n",
    "import math\n",
    "\n",
    "degree = 45\n",
    "radians = degree / 180.0 * math.pi\n",
    "\n",
    "print(math.sin(radians))"
   ]
  },
  {
   "cell_type": "code",
   "execution_count": 71,
   "metadata": {},
   "outputs": [
    {
     "name": "stdout",
     "output_type": "stream",
     "text": [
      "9.872164\n"
     ]
    }
   ],
   "source": [
    "\n",
    "#Calculating the are of a circle\n",
    "\n",
    "# function named main\n",
    "def main():\n",
    "    pi = 3.142\n",
    "\n",
    "    rad = int(input('enter the radius: '))\n",
    "\n",
    "    print(area_circle(pi,rad))\n",
    "\n",
    "def area_circle(rad,pi):\n",
    "    area = pi* rad * rad\n",
    "\n",
    "    return area \n",
    "\n",
    "main()"
   ]
  },
  {
   "cell_type": "code",
   "execution_count": 80,
   "metadata": {},
   "outputs": [
    {
     "name": "stdout",
     "output_type": "stream",
     "text": [
      "+-------+-------+\n",
      "|\t|\t|\n",
      "|\t|\t|\n",
      "|\t|\t|\n",
      "\n",
      "+-------+-------+\n",
      "|\t|\t|\n",
      "|\t|\t|\n",
      "|\t|\t|\n",
      "\n",
      "+-------+-------+\n"
     ]
    }
   ],
   "source": [
    "# prpgram to draw a grid\n",
    "\n",
    "def grid():\n",
    "    line()\n",
    "    mid_line()\n",
    "    line()\n",
    "    mid_line()\n",
    "    line()\n",
    "    \n",
    "def line():\n",
    "    line =  ('-'*7) \n",
    "    print('+' + line + '+' + line + '+')\n",
    "\n",
    "def mid_line():\n",
    "    line = (\"|\") + ('\\t|' * 2)\n",
    "    print (f'{line}\\n' *3) \n",
    "grid()"
   ]
  },
  {
   "cell_type": "markdown",
   "metadata": {},
   "source": [
    "# Condition\n",
    "\n",
    "asking in oython using simple ride like >,<, >=,<=, ==, !=, to get an boolean answer a TRUE or FALSE answer, if a is true or false, elif or else ...in simple tearms its a control flow - logic thinking(read it in english)\n",
    "\n",
    "Understand how to use AND and OR, not eaual to\n",
    "\n",
    "\n",
    "checking if th number is even or odd\n",
    "\n",
    "There is a new match case statements \n"
   ]
  },
  {
   "cell_type": "code",
   "execution_count": 15,
   "metadata": {},
   "outputs": [
    {
     "name": "stdout",
     "output_type": "stream",
     "text": [
      "22 is an even number\n"
     ]
    }
   ],
   "source": [
    "# checking if the number is odd or even\n",
    "\n",
    "def main():\n",
    "    num = int(input('enter a number'))\n",
    "\n",
    "    if number_even(num):\n",
    "        print(f'{num} is an even number')\n",
    "\n",
    "    else:\n",
    "        print(f'{ num }, is an odd number')\n",
    "\n",
    "\n",
    "def number_even(n):\n",
    "    # if n % 2 == 0:\n",
    "    #     return True\n",
    "    # else:\n",
    "    #     return False\n",
    "\n",
    "    return True if n%2 == 0 else False\n",
    "\n",
    "main()"
   ]
  },
  {
   "cell_type": "code",
   "execution_count": 16,
   "metadata": {},
   "outputs": [
    {
     "name": "stdout",
     "output_type": "stream",
     "text": [
      "sasam's stream is: None\n"
     ]
    }
   ],
   "source": [
    "def main():\n",
    "    student_name = input('Enter the student first name: ')\n",
    "\n",
    "    print (f'{student_name}\\'s stream is:', student_stream(student_name))\n",
    "\n",
    "def student_stream(stream):\n",
    "    match stream:\n",
    "        case 'sammy'|'John'|'Paul':\n",
    "            return 'West'\n",
    "        case 'Nathan'|'petroo'|'Noman':\n",
    "            return 'South'\n",
    "        case _:\n",
    "            return None\n",
    "main()"
   ]
  },
  {
   "cell_type": "markdown",
   "metadata": {},
   "source": [
    "# Iteration- loops\n",
    "\n",
    "- repiting samethng over and over the same time is boring, but automating with a condition is something worth a short, all this are eneable by python\n",
    "\n",
    "        - While loop\n",
    "        - for loop\n",
    "- To loop over items we comonly use while and for loop\n",
    "\n",
    "- Things to understand:\n",
    "         - Know how to intitalize \n",
    "         - how does it end whats is the condtion\n",
    "         - what is expected at the end of the loop"
   ]
  },
  {
   "cell_type": "code",
   "execution_count": 17,
   "metadata": {},
   "outputs": [
    {
     "name": "stdout",
     "output_type": "stream",
     "text": [
      "6\n",
      "5\n",
      "4\n",
      "3\n",
      "2\n",
      "Sammy\n"
     ]
    }
   ],
   "source": [
    "\n",
    "n = 5\n",
    "\n",
    "while n>0:\n",
    "    print(n+1)\n",
    "\n",
    "    n = n -1\n",
    "\n",
    "print('Sammy')"
   ]
  },
  {
   "cell_type": "code",
   "execution_count": 18,
   "metadata": {},
   "outputs": [
    {
     "name": "stdout",
     "output_type": "stream",
     "text": [
      "Count:  8\n"
     ]
    }
   ],
   "source": [
    "count = 0\n",
    "\n",
    "for intervar in [4,5,7,7]:\n",
    "    count= count + 2\n",
    "\n",
    "print('Count: ', count)"
   ]
  },
  {
   "cell_type": "code",
   "execution_count": 19,
   "metadata": {},
   "outputs": [
    {
     "name": "stdout",
     "output_type": "stream",
     "text": [
      "banana\n",
      "aple\n",
      "mango\n"
     ]
    }
   ],
   "source": [
    "fruits = ['banana','aple', 'mango']\n",
    "\n",
    "for i in fruits:\n",
    "    print(i)"
   ]
  },
  {
   "cell_type": "code",
   "execution_count": 20,
   "metadata": {},
   "outputs": [
    {
     "name": "stdout",
     "output_type": "stream",
     "text": [
      "0\n",
      "2\n",
      "4\n",
      "6\n",
      "8\n"
     ]
    }
   ],
   "source": [
    "for x in range(10):\n",
    "\n",
    "    if x % 2==0:\n",
    "        print(x)"
   ]
  },
  {
   "cell_type": "markdown",
   "metadata": {},
   "source": [
    "Fizzbuzz "
   ]
  },
  {
   "cell_type": "code",
   "execution_count": 21,
   "metadata": {},
   "outputs": [
    {
     "ename": "ValueError",
     "evalue": "invalid literal for int() with base 10: 'aa'",
     "output_type": "error",
     "traceback": [
      "\u001b[0;31m---------------------------------------------------------------------------\u001b[0m",
      "\u001b[0;31mValueError\u001b[0m                                Traceback (most recent call last)",
      "Cell \u001b[0;32mIn[21], line 1\u001b[0m\n\u001b[0;32m----> 1\u001b[0m n \u001b[38;5;241m=\u001b[39m \u001b[38;5;28;43mint\u001b[39;49m\u001b[43m(\u001b[49m\u001b[38;5;28;43minput\u001b[39;49m\u001b[43m(\u001b[49m\u001b[43m)\u001b[49m\u001b[43m)\u001b[49m\n\u001b[1;32m      2\u001b[0m \u001b[38;5;28;01mfor\u001b[39;00m i \u001b[38;5;129;01min\u001b[39;00m \u001b[38;5;28mrange\u001b[39m(\u001b[38;5;241m1\u001b[39m,n\u001b[38;5;241m+\u001b[39m\u001b[38;5;241m1\u001b[39m):\n\u001b[1;32m      4\u001b[0m   \u001b[38;5;28;01mif\u001b[39;00m i\u001b[38;5;241m%\u001b[39m\u001b[38;5;241m3\u001b[39m\u001b[38;5;241m==\u001b[39m\u001b[38;5;241m0\u001b[39m \u001b[38;5;129;01mand\u001b[39;00m i\u001b[38;5;241m%\u001b[39m\u001b[38;5;241m5\u001b[39m \u001b[38;5;241m==\u001b[39m \u001b[38;5;241m0\u001b[39m:\n",
      "\u001b[0;31mValueError\u001b[0m: invalid literal for int() with base 10: 'aa'"
     ]
    }
   ],
   "source": [
    "n = int(input())\n",
    "for i in range(1,n+1):\n",
    "\n",
    "  if i%3==0 and i%5 == 0:\n",
    "      print(\"FizzBuzz\")\n",
    "  elif i%5 == 0:\n",
    "    print(\"Buzz\")\n",
    "  elif i%3 == 0:\n",
    "    print(\"Fizz\")\n",
    "\n"
   ]
  },
  {
   "cell_type": "markdown",
   "metadata": {},
   "source": [
    "# Exception\n",
    "\n",
    "Things often atimes goes wrong,and we need a way to catch the errors. using try and except\n",
    "\n",
    "try - checks the code for the errors and except returns a message of an error that has occured, but doesnt display the error "
   ]
  },
  {
   "cell_type": "code",
   "execution_count": null,
   "metadata": {},
   "outputs": [
    {
     "name": "stdout",
     "output_type": "stream",
     "text": [
      "error has occured\n",
      "the code has finished\n"
     ]
    }
   ],
   "source": [
    "try:\n",
    "    print(x)\n",
    "\n",
    "except:\n",
    "    print('error has occured')\n",
    "\n",
    "finally:\n",
    "    print('the code has finished')\n"
   ]
  },
  {
   "cell_type": "code",
   "execution_count": null,
   "metadata": {},
   "outputs": [
    {
     "name": "stdout",
     "output_type": "stream",
     "text": [
      "Something went wrong opening the file\n"
     ]
    }
   ],
   "source": [
    "try:\n",
    "    f = open('demofile.text')\n",
    "\n",
    "    try:\n",
    "        f.wriite('lorem ipsum')\n",
    "    except:\n",
    "        print('something went wrong when writing to the file')\n",
    "    finally:\n",
    "        f.clode()\n",
    "except:\n",
    "    print('Something went wrong opening the file')"
   ]
  },
  {
   "cell_type": "markdown",
   "metadata": {},
   "source": [
    "# Module \n",
    "\n",
    "Simplifying a program rather than writing a a whole program. Modules simpifies such instance by importing files to simplify the program, it contains definition and statement \n",
    "\n",
    "- there are built in models and you can create one. You use import with the module, and use it inside using a dot along the module name. Understanding how to import it and using it.\n",
    "\n",
    "- You can give an alis name/ \n",
    "- import a module from another file using sys.path.append(file path)\n",
    "\n"
   ]
  },
  {
   "cell_type": "code",
   "execution_count": null,
   "metadata": {},
   "outputs": [
    {
     "name": "stdout",
     "output_type": "stream",
     "text": [
      "3.0\n"
     ]
    }
   ],
   "source": [
    "# Using n alise name \n",
    "\n",
    "import math as ma\n",
    "\n",
    "num = 9\n",
    "\n",
    "# print a number\n",
    "print(ma.sqrt(num))"
   ]
  },
  {
   "cell_type": "markdown",
   "metadata": {},
   "source": [
    "# Classes\n",
    "\n",
    "The ability to create reusable and maintainable code, instance(new type of object) a class has attributes and methodes attached to it(namespace[maping from names to objects-dictionaries] and scope[built in names and functions])\n",
    "\n",
    "namespace runs untill the program exits(ends) module __main__\n",
    "\n",
    "- use keyword class and hen followed b the name of the class which is indendt with statements, and you call it like def in function- it supports two kinds pf operation - attribute referene and instantiation\n",
    "\n",
    "- classes have attribues and methods, inheriance(dubclasses and superclass)\n",
    "\n",
    "\n",
    "## inheritace\n",
    "\n",
    "- this are subclass and super class and it inherists  attributes and methodes from another class"
   ]
  },
  {
   "cell_type": "code",
   "execution_count": null,
   "metadata": {},
   "outputs": [
    {
     "name": "stdout",
     "output_type": "stream",
     "text": [
      "11\n"
     ]
    }
   ],
   "source": [
    "class MyNumber:\n",
    "    num = 12345\n",
    "\n",
    "    def __init__(self, num):\n",
    "        self.num = num\n",
    "\n",
    "# class instantiation\n",
    "number = int(input('Enter a random Number'))\n",
    "\n",
    "x = MyNumber(number)\n",
    "\n",
    "\n",
    "print(x.num)"
   ]
  },
  {
   "cell_type": "code",
   "execution_count": null,
   "metadata": {},
   "outputs": [
    {
     "name": "stdout",
     "output_type": "stream",
     "text": [
      "3.0 -4.5\n"
     ]
    }
   ],
   "source": [
    "class Complex:\n",
    "\n",
    "    # atributes \n",
    "    def __init__(self,realpart,imagpart):\n",
    "        self.r = realpart\n",
    "        self.i = imagpart\n",
    "\n",
    "x = Complex(3.0,-4.5)\n",
    "\n",
    "print(x.r,x.i)"
   ]
  },
  {
   "cell_type": "code",
   "execution_count": 26,
   "metadata": {},
   "outputs": [
    {
     "name": "stdout",
     "output_type": "stream",
     "text": [
      "I am Sammy and i love Data ...\n",
      "I am learning Data..\n",
      "am glad am Single and learning Data keeps me going\n"
     ]
    }
   ],
   "source": [
    "# Who am i and what  do \n",
    "\n",
    "# 1 defining a class, with 3 attributes and three methods\n",
    "class MyProfile:\n",
    "    # constructor method, to intitialize objce attributes\n",
    "    def __init__(self, name, bio, status):\n",
    "        self.name = name\n",
    "        self.bio = bio\n",
    "        self.status = status\n",
    "    # methods - fuction that belong to an agent\n",
    "    def name_n(self):\n",
    "        print(f'I am {self.name} and i love {self.bio} ...')\n",
    "\n",
    "    def bio_n(self):\n",
    "        print(f'I am learning {self.bio}..')\n",
    "\n",
    "    def status_n(self):\n",
    "        print(f'am glad am {self.status} and learning {self.bio} keeps me going')\n",
    "\n",
    "# creatin an pbject with cake class\n",
    "        \n",
    "profile = MyProfile('Sammy','Data', 'Single')\n",
    "\n",
    "profile.name_n()\n",
    "profile.bio_n()\n",
    "profile.status_n()"
   ]
  },
  {
   "cell_type": "code",
   "execution_count": 28,
   "metadata": {},
   "outputs": [],
   "source": [
    "class Animal:\n",
    "    def __init__(self, name,age):\n",
    "        self.name = name\n",
    "        self.age = age\n",
    "\n",
    "class Dog(Animal):\n",
    "    def backs(self):\n",
    "        print(f'{self.name}, sams woof')\n",
    "              \n",
    "dog2 = Dog('buddy', 3)\n",
    "\n",
    "print(dog2)"
   ]
  }
 ],
 "metadata": {
  "kernelspec": {
   "display_name": "Python 3",
   "language": "python",
   "name": "python3"
  },
  "language_info": {
   "codemirror_mode": {
    "name": "ipython",
    "version": 3
   },
   "file_extension": ".py",
   "mimetype": "text/x-python",
   "name": "python",
   "nbconvert_exporter": "python",
   "pygments_lexer": "ipython3",
   "version": "3.11.8"
  }
 },
 "nbformat": 4,
 "nbformat_minor": 2
}
