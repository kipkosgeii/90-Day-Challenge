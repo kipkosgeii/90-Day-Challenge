{
 "cells": [
  {
   "cell_type": "markdown",
   "metadata": {},
   "source": [
    "## Understanding Python\n",
    "\n",
    "- Undersatnd how it is installed \n",
    "- naming convention of python\n",
    "- Understand Variables(define and naming)"
   ]
  },
  {
   "cell_type": "markdown",
   "metadata": {},
   "source": [
    "## Understanding basic Python Function\n",
    "\n",
    "- there is a way python operate when a function is invoked \n",
    "\n",
    "N/B: there can not be more than one line of instruction \n",
    "\n",
    "### how code/instruction is executed \n",
    "\n",
    "- Checks if the name specified is legal(brows through existng function, search and or aborts the code)\n",
    "- checks if the function requirements for the number of arguments that allows you to invoke the function in this manner\n",
    "- It then read through the function takes its arguments and pass them to a function\n",
    "- The instruction is now excuted to the desired effect, evaluates the results, and finishes the task\n",
    "- return the code and resume execution"
   ]
  },
  {
   "cell_type": "code",
   "execution_count": 2,
   "metadata": {},
   "outputs": [
    {
     "name": "stdout",
     "output_type": "stream",
     "text": [
      "Hello World!\n"
     ]
    }
   ],
   "source": [
    "print('Hello World!')"
   ]
  },
  {
   "cell_type": "markdown",
   "metadata": {},
   "source": [
    "- what is happening here is function print is invoked and it has accepted an argument(it can take more than one  argument an din anyform from numers, string,characters,logicak values and objects), converts to human-readable an and output the results (console)\n",
    "\n",
    "#### print \n",
    "    - can take more than one arguments\n"
   ]
  },
  {
   "cell_type": "code",
   "execution_count": null,
   "metadata": {},
   "outputs": [],
   "source": [
    "print('Sammy','My school', 'John')"
   ]
  },
  {
   "cell_type": "markdown",
   "metadata": {},
   "source": [
    "### Keyword Argument\n",
    "\n",
    "- this happens when you want to change the behaviour of a function like end=\"\""
   ]
  },
  {
   "cell_type": "code",
   "execution_count": 7,
   "metadata": {},
   "outputs": [
    {
     "name": "stdout",
     "output_type": "stream",
     "text": [
      "whats your name am Me\n",
      "\n",
      "Mon-tue-wen-thur-fri\n",
      "\n",
      "john-ndoe..."
     ]
    }
   ],
   "source": [
    "# alters the end of the code \n",
    "print('whats your name', end=' ')\n",
    "\n",
    "print('am Me')\n",
    "\n",
    "print()\n",
    "\n",
    "# seperator \n",
    "print('Mon','tue','wen','thur','fri', sep='-')\n",
    "\n",
    "print()\n",
    "\n",
    "# combining keyword argument \n",
    "\n",
    "print('john', 'ndoe', sep='-', end='...')"
   ]
  },
  {
   "cell_type": "code",
   "execution_count": 24,
   "metadata": {},
   "outputs": [
    {
     "name": "stdout",
     "output_type": "stream",
     "text": [
      "*    * *      *    *    *     * *       * *        *   *\n",
      "*  *         * *   * *  *     *   *   *     *      * *****\n",
      "*  *        *****  *  * *     *   *   *     *      *   *\n",
      "*    * *   *     * *   **     *  *      * *        *   ****\n"
     ]
    }
   ],
   "source": [
    "print('*    * *      *    *    *     * *       * *        *   *')\n",
    "print('*  *         * *   * *  *     *   *   *     *      * *****')\n",
    "print('*  *        *****  *  * *     *   *   *     *      *   *')\n",
    "print('*    * *   *     * *   **     *  *      * *        *   ****')"
   ]
  },
  {
   "cell_type": "markdown",
   "metadata": {},
   "source": [
    "# Variables \n",
    "- Understanding how to define and using variable \n",
    "\n",
    "there are several types of variable - and each of them belongs to a class in relation to its operation, methods.\n",
    "\n",
    "* string\n",
    "* Integers \n",
    "* Float\n",
    "* Boolean"
   ]
  },
  {
   "cell_type": "code",
   "execution_count": 3,
   "metadata": {},
   "outputs": [
    {
     "name": "stdout",
     "output_type": "stream",
     "text": [
      "254.50199999999998\n"
     ]
    }
   ],
   "source": [
    "# area of a circle \n",
    "\n",
    "pi = 3.142\n",
    "\n",
    "rad = input('Enter the radius: ')\n",
    "\n",
    "area = pi *int (rad) * int(rad)\n",
    "\n",
    "print(area)"
   ]
  },
  {
   "cell_type": "code",
   "execution_count": 7,
   "metadata": {},
   "outputs": [
    {
     "name": "stdout",
     "output_type": "stream",
     "text": [
      "88.849476\n"
     ]
    }
   ],
   "source": [
    "\n",
    "def main():\n",
    "    pi = 3.142\n",
    "\n",
    "    rad = int(input('enter the radius: '))\n",
    "\n",
    "    print(area_circle(pi,rad))\n",
    "\n",
    "def area_circle(rad,pi):\n",
    "    area = pi* rad * rad\n",
    "\n",
    "    return area \n",
    "\n",
    "main()"
   ]
  },
  {
   "cell_type": "markdown",
   "metadata": {},
   "source": [
    "# Condition\n",
    "\n",
    "asking in oython using simple ride like >,<, >=,<=, ==, !=, to get an boolean answer a TRUE or FALSE answer, if a is true or false, elif or else ...in simple tearms its a control flow - logic thinking(read it in english)\n",
    "\n",
    "Understand how to use AND and OR, not eaual to\n",
    "\n",
    "\n",
    "checking if th number is even or odd\n",
    "\n",
    "There is a new match case statements \n"
   ]
  },
  {
   "cell_type": "code",
   "execution_count": 16,
   "metadata": {},
   "outputs": [
    {
     "name": "stdout",
     "output_type": "stream",
     "text": [
      "3, is an odd number\n"
     ]
    }
   ],
   "source": [
    "# checking if the number is odd or even\n",
    "\n",
    "def main():\n",
    "    num = int(input('enter a number'))\n",
    "\n",
    "    if number_even(num):\n",
    "        print(f'{num} is an even number')\n",
    "\n",
    "    else:\n",
    "        print(f'{ num }, is an odd number')\n",
    "\n",
    "\n",
    "def number_even(n):\n",
    "    # if n % 2 == 0:\n",
    "    #     return True\n",
    "    # else:\n",
    "    #     return False\n",
    "\n",
    "    return True if n%2 == 0 else False\n",
    "\n",
    "main()"
   ]
  },
  {
   "cell_type": "code",
   "execution_count": 15,
   "metadata": {},
   "outputs": [
    {
     "name": "stdout",
     "output_type": "stream",
     "text": [
      "John's stream is:  West\n"
     ]
    }
   ],
   "source": [
    "def main():\n",
    "    student_name = input('Enter the student first name: ')\n",
    "\n",
    "    print (f'{student_name}\\'s stream is:', student_stream(student_name))\n",
    "\n",
    "def student_stream(stream):\n",
    "    match stream:\n",
    "        case 'sammy'|'John'|'Paul':\n",
    "            return 'West'\n",
    "        case 'Nathan'|'petroo'|'Noman':\n",
    "            return 'South'\n",
    "        case _:\n",
    "            return None\n",
    "main()"
   ]
  },
  {
   "cell_type": "markdown",
   "metadata": {},
   "source": [
    "# Iteration- loops\n",
    "\n",
    "- repiting samethng over and over the same time is boring, but automating with a condition is something worth a short, all this are eneable by python\n",
    "\n",
    "        - While loop\n",
    "        - for loop\n",
    "To loop over items we comonly use while and for loop"
   ]
  },
  {
   "cell_type": "code",
   "execution_count": 4,
   "metadata": {},
   "outputs": [
    {
     "name": "stdout",
     "output_type": "stream",
     "text": [
      "6\n",
      "5\n",
      "4\n",
      "3\n",
      "2\n",
      "Sammy\n"
     ]
    }
   ],
   "source": [
    "\n",
    "n = 5\n",
    "\n",
    "while n>0:\n",
    "    print(n+1)\n",
    "\n",
    "    n = n -1\n",
    "\n",
    "print('Sammy')"
   ]
  },
  {
   "cell_type": "code",
   "execution_count": 6,
   "metadata": {},
   "outputs": [
    {
     "name": "stdout",
     "output_type": "stream",
     "text": [
      "Count:  8\n"
     ]
    }
   ],
   "source": [
    "count = 0\n",
    "\n",
    "for intervar in [4,5,7,7]:\n",
    "    count= count + 2\n",
    "\n",
    "print('Count: ', count)"
   ]
  }
 ],
 "metadata": {
  "kernelspec": {
   "display_name": "Python 3",
   "language": "python",
   "name": "python3"
  },
  "language_info": {
   "codemirror_mode": {
    "name": "ipython",
    "version": 3
   },
   "file_extension": ".py",
   "mimetype": "text/x-python",
   "name": "python",
   "nbconvert_exporter": "python",
   "pygments_lexer": "ipython3",
   "version": "3.11.8"
  }
 },
 "nbformat": 4,
 "nbformat_minor": 2
}
