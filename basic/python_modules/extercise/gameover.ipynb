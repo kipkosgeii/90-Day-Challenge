{
 "cells": [
  {
   "cell_type": "code",
   "execution_count": 4,
   "metadata": {},
   "outputs": [
    {
     "name": "stdout",
     "output_type": "stream",
     "text": [
      "game over,'over'2.0\n"
     ]
    }
   ],
   "source": [
    "# demostrate how to use quotes \n",
    "\n",
    "print(\"game over,'over'2.0\")"
   ]
  },
  {
   "cell_type": "code",
   "execution_count": 1,
   "metadata": {},
   "outputs": [
    {
     "name": "stdout",
     "output_type": "stream",
     "text": [
      "\t\t\t\tSammy Kipkoshri\n"
     ]
    }
   ],
   "source": [
    "# <!-- Escape characters use black slash -->\n",
    "\n",
    "print('\\t\\t\\t\\tSammy Kipkoshri')"
   ]
  },
  {
   "cell_type": "code",
   "execution_count": 2,
   "metadata": {},
   "outputs": [
    {
     "name": "stdout",
     "output_type": "stream",
     "text": [
      "samm\n"
     ]
    }
   ],
   "source": [
    "# Input function\n",
    "\n",
    "name = input('Hi, whats your name? ')\n",
    "\n",
    "print(name)"
   ]
  },
  {
   "cell_type": "code",
   "execution_count": 25,
   "metadata": {},
   "outputs": [
    {
     "name": "stdout",
     "output_type": "stream",
     "text": [
      "62977392000\n"
     ]
    }
   ],
   "source": [
    "# calculating age of a person in seconds \n",
    "\n",
    "import datetime\n",
    "\n",
    "daysOfTheYear = 365\n",
    "\n",
    "year_born = int(input('Enter the year born: '))\n",
    "\n",
    "age = (datetime.datetime.today().year) - year_born\n",
    "\n",
    "#age in seconds\n",
    "\n",
    "age_sec = daysOfTheYear * age * 24* 60 * 60\n",
    "\n",
    "print(age_sec)"
   ]
  },
  {
   "cell_type": "code",
   "execution_count": 8,
   "metadata": {},
   "outputs": [
    {
     "name": "stdout",
     "output_type": "stream",
     "text": [
      "sammsammsammsammsamm\n"
     ]
    }
   ],
   "source": [
    "print( (name)*5)"
   ]
  },
  {
   "cell_type": "markdown",
   "metadata": {},
   "source": [
    "Volume of a Spear, 4/3(pi * r^3)\n",
    "\n",
    "ask the user the raius "
   ]
  },
  {
   "cell_type": "code",
   "execution_count": 28,
   "metadata": {},
   "outputs": [
    {
     "name": "stdout",
     "output_type": "stream",
     "text": [
      "523.6666666666666\n"
     ]
    }
   ],
   "source": [
    "r = int(input('Enter the radious: '))\n",
    "\n",
    "pi = 3.142 \n",
    "\n",
    "area_spear = (4/3 * pi * (r **3))\n",
    "\n",
    "print(area_spear)"
   ]
  }
 ],
 "metadata": {
  "kernelspec": {
   "display_name": "Python 3",
   "language": "python",
   "name": "python3"
  },
  "language_info": {
   "codemirror_mode": {
    "name": "ipython",
    "version": 3
   },
   "file_extension": ".py",
   "mimetype": "text/x-python",
   "name": "python",
   "nbconvert_exporter": "python",
   "pygments_lexer": "ipython3",
   "version": "3.10.12"
  }
 },
 "nbformat": 4,
 "nbformat_minor": 2
}
