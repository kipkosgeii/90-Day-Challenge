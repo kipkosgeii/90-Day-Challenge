{
 "cells": [
  {
   "cell_type": "code",
   "execution_count": 22,
   "metadata": {},
   "outputs": [],
   "source": [
    "import turtle\n",
    "window = turtle.Screen()\n",
    "\n",
    "geoff = turtle.Turtle()\n",
    "\n",
    "# program to draw a polygon on trtle \n",
    "def polygon(geoff, n,length):\n",
    "    for i in range(n):\n",
    "\n",
    "        angle = 360/n \n",
    "        geoff.fd(length)\n",
    "        geoff.lt(angle)\n",
    "polygon(geoff, 7, 70)\n",
    "\n",
    "window.exitonclick()"
   ]
  }
 ],
 "metadata": {
  "kernelspec": {
   "display_name": "Python 3",
   "language": "python",
   "name": "python3"
  },
  "language_info": {
   "codemirror_mode": {
    "name": "ipython",
    "version": 3
   },
   "file_extension": ".py",
   "mimetype": "text/x-python",
   "name": "python",
   "nbconvert_exporter": "python",
   "pygments_lexer": "ipython3",
   "version": "3.11.8"
  }
 },
 "nbformat": 4,
 "nbformat_minor": 2
}
