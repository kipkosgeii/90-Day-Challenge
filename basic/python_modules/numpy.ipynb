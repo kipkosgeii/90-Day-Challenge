{
 "cells": [
  {
   "cell_type": "markdown",
   "metadata": {},
   "source": [
    "# Numpy\n",
    "\n",
    "This is numerical python, workinhg with arrays, \n",
    "\n",
    "to use you import the module as alias np\n",
    "\n",
    "- its also a fuction for working with linear algebra, fouroer transform and matrices.\n",
    "\n",
    "- Its an improve list, and is more faster than lost(stored in one place,cpu), they objects called ndarray(for fast use and resources)\n",
    "\n",
    "- ndarray can take (list, tuple,)\n",
    "\n",
    "# Dimention in array\n",
    "\n",
    "- 1 dimentina arrays are called - vector \n",
    "- 2 dimentional array are called matrix - nested list\n",
    "- 3 dimentional are called tensor\n",
    "\n",
    "- You can check the array attributes \n",
    "\n",
    "    - (shape- Checks the dimention(size of element ),\n",
    "    - size - checking the number of elements i  array\n",
    "    - and type checking the arrays-)\n",
    "    - indexing and sclicing, respaing and flatening \n",
    "\n",
    "- Operations, - arithmetic, broadcasting, elemt-wise, matrix(dot product, cross product, transpose)\n",
    "\n",
    "- Manipulaion, concatinating and spliting, satcking and unstacking, inserting and deleteing elements\n",
    "\n",
    "- Statistical function(descriptive statistics[mean, mode,median,variance, standard deviation],)\n",
    "\n",
    "- Random generation( uniform, nromal, binomial distribution) * random seed, and sampling\n",
    "\n"
   ]
  },
  {
   "cell_type": "code",
   "execution_count": 3,
   "metadata": {},
   "outputs": [
    {
     "name": "stdout",
     "output_type": "stream",
     "text": [
      "[1 2 3 4 5]\n",
      "<class 'numpy.ndarray'>\n",
      "1.26.1\n",
      "\n",
      "8\n",
      "int64\n",
      "\n",
      "2\n",
      "\n"
     ]
    }
   ],
   "source": [
    "import numpy as np\n",
    "# 0-d array\n",
    "# ndarray created using list\n",
    "arr = np.array([1,2,3,4,5])\n",
    "\n",
    "print(arr)\n",
    "\n",
    "# checking the type of array(ndarray)\n",
    "\n",
    "print(type(arr))\n",
    "\n",
    "# to check version of numpy\n",
    "print(np.__version__)\n",
    "\n",
    "# 2-d array\n",
    "\n",
    "arr_2d = np.array([[11,22,33,44], [12,11,12,111]])\n",
    "\n",
    "print()\n",
    "print(arr_2d.size)\n",
    "print(arr.dtype)\n",
    "\n",
    "print()\n",
    "\n",
    "arr_3d = np.array([[1,2,3],[4,5,6],[11,2,3]])\n",
    "\n",
    "# check the type of array\n",
    "print(arr_2d.ndim)\n",
    "\n",
    "print()"
   ]
  },
  {
   "cell_type": "code",
   "execution_count": 14,
   "metadata": {},
   "outputs": [
    {
     "name": "stdout",
     "output_type": "stream",
     "text": [
      "11\n",
      "(2, 3, 4)\n",
      "\n",
      "[[2 3]\n",
      " [5 6]]\n",
      "[1 2 3 4 5 6 7 8 9]\n"
     ]
    }
   ],
   "source": [
    "# sclicing & indexing\n",
    "\n",
    "numbers = (11,2,3,4,22,22)\n",
    "\n",
    "print(numbers[0])\n",
    "\n",
    "print(numbers[1:4])\n",
    "\n",
    "mult_num = np.array([[1,2,3],[4,5,6],[7,8,9]])\n",
    "\n",
    "print()\n",
    "print(mult_num[0:2,1:])\n",
    "\n",
    "# reshaping array\n",
    "\n",
    "reshaped = mult_num.flatten() #revel\n",
    "\n",
    "print(reshaped)"
   ]
  },
  {
   "cell_type": "code",
   "execution_count": 18,
   "metadata": {},
   "outputs": [
    {
     "name": "stdout",
     "output_type": "stream",
     "text": [
      "[2.39789527 0.69314718 1.09861229 1.38629436 3.09104245 3.09104245]\n",
      "\n",
      "[-0.99999021  0.90929743  0.14112001 -0.7568025  -0.00885131 -0.00885131]\n",
      "\n",
      "[ 0.0044257  -0.41614684 -0.9899925  -0.65364362 -0.99996083 -0.99996083]\n"
     ]
    }
   ],
   "source": [
    "log_array = np.log(numbers)\n",
    "\n",
    "print(log_array)\n",
    "\n",
    "print()\n",
    "sin_array = np.sin(numbers)\n",
    "\n",
    "print(sin_array)\n",
    "\n",
    "print()\n",
    "\n",
    "cosine_array = np.cos(numbers)\n",
    "\n",
    "print(cosine_array)"
   ]
  },
  {
   "cell_type": "markdown",
   "metadata": {},
   "source": [
    "## Statistcial fun\n",
    "\n",
    "This are basic statistics, descriptive statistics \n",
    "\n",
    "- mean, median, mode, variance, standard deviation\n",
    "\n",
    "    - Mean - avarage value of data set\n",
    "    - median - middle value of data(when data sis arragned in orderly manner)\n",
    "    - mode - is the vlaue that occurs the most, more than once \n",
    "    - variance - measure the spread of variability(avarange of the squared diffrence between each value and mean) [ high varaince means dats is spread out, while low state data is clustered closely around mean]"
   ]
  }
 ],
 "metadata": {
  "kernelspec": {
   "display_name": "Python 3",
   "language": "python",
   "name": "python3"
  },
  "language_info": {
   "codemirror_mode": {
    "name": "ipython",
    "version": 3
   },
   "file_extension": ".py",
   "mimetype": "text/x-python",
   "name": "python",
   "nbconvert_exporter": "python",
   "pygments_lexer": "ipython3",
   "version": "3.10.12"
  }
 },
 "nbformat": 4,
 "nbformat_minor": 2
}
